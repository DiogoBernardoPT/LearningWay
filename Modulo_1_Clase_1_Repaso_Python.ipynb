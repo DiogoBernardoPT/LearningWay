{
  "nbformat": 4,
  "nbformat_minor": 0,
  "metadata": {
    "colab": {
      "provenance": [],
      "authorship_tag": "ABX9TyMBWcw0R8iUv1RzAWVevVVT",
      "include_colab_link": true
    },
    "kernelspec": {
      "name": "python3",
      "display_name": "Python 3"
    },
    "language_info": {
      "name": "python"
    }
  },
  "cells": [
    {
      "cell_type": "markdown",
      "metadata": {
        "id": "view-in-github",
        "colab_type": "text"
      },
      "source": [
        "<a href=\"https://colab.research.google.com/github/DiogoBernardoPT/LearningWay/blob/main/Modulo_1_Clase_1_Repaso_Python.ipynb\" target=\"_parent\"><img src=\"https://colab.research.google.com/assets/colab-badge.svg\" alt=\"Open In Colab\"/></a>"
      ]
    },
    {
      "cell_type": "code",
      "execution_count": null,
      "metadata": {
        "id": "lawaM0riiLiI"
      },
      "outputs": [],
      "source": [
        "### Repaso Clases HackABoss - Target: 3 meses repaso diarios con ejercicios"
      ]
    },
    {
      "cell_type": "markdown",
      "source": [
        "## Operadores Aritmeticos"
      ],
      "metadata": {
        "id": "fjRGWxDwpY8f"
      }
    },
    {
      "cell_type": "markdown",
      "source": [
        "%\n",
        "Modulo\n",
        "x % y\n",
        "\n",
        "El módulo (representado por el operador % en muchos lenguajes de programación) se usa precisamente para obtener el resto de una división entre dos números. Es útil para determinar si un número es par o impar, entre otras cosas.\n",
        "\n"
      ],
      "metadata": {
        "id": "nffcfRaEml7W"
      }
    },
    {
      "cell_type": "code",
      "source": [
        "number = 7\n",
        "\n",
        "# Usamos el operador modulo (%) para obtener el residuo de la división\n",
        "if number % 2 == 0:\n",
        "    print(f\"{number} es par.\")\n",
        "else:\n",
        "    print(f\"{number} es impar.\")\n"
      ],
      "metadata": {
        "id": "qTLUFaLwkvaC",
        "colab": {
          "base_uri": "https://localhost:8080/"
        },
        "outputId": "2ba0e957-662a-409e-80dc-7a1816d5f68b"
      },
      "execution_count": null,
      "outputs": [
        {
          "output_type": "stream",
          "name": "stdout",
          "text": [
            "7 es impar.\n"
          ]
        }
      ]
    },
    {
      "cell_type": "code",
      "source": [
        "number = 6\n",
        "\n",
        "# Usamos el operador modulo (%) para obtener el residuo de la división\n",
        "if number % 2 == 0:\n",
        "    print(f\"{number} es par.\")\n",
        "else:\n",
        "    print(f\"{number} es impar.\")"
      ],
      "metadata": {
        "colab": {
          "base_uri": "https://localhost:8080/"
        },
        "id": "toHa5PSN1NRQ",
        "outputId": "d95c68b5-8a58-4164-f938-4b966cea485b"
      },
      "execution_count": null,
      "outputs": [
        {
          "output_type": "stream",
          "name": "stdout",
          "text": [
            "6 es par.\n"
          ]
        }
      ]
    },
    {
      "cell_type": "code",
      "source": [
        "10 **2"
      ],
      "metadata": {
        "colab": {
          "base_uri": "https://localhost:8080/"
        },
        "id": "DC1PiN92p5_w",
        "outputId": "22e1ebb3-2390-462e-a3be-cacf3ddfa11d"
      },
      "execution_count": null,
      "outputs": [
        {
          "output_type": "execute_result",
          "data": {
            "text/plain": [
              "100"
            ]
          },
          "metadata": {},
          "execution_count": 3
        }
      ]
    },
    {
      "cell_type": "markdown",
      "source": [
        " Built-in Methods\n",
        "Las cadenas de caractéres tienen una gran variedad de métodos, estos son algunos de los más utilizados:\n",
        "\n",
        ".capitalize()\n",
        ".isalnum()\n",
        "\n",
        ".title()\n",
        ".isalpha()\n",
        "\n",
        ".casefold()\n",
        ".isascii()\n",
        "\n",
        ".center()\n",
        ".isdecimal()\n",
        "\n",
        ".count()\n",
        ".isdigit()\n",
        "\n",
        ".split()\n",
        ".isidentifier()\n",
        "\n",
        ".startswith()\n",
        ".islower()\n",
        "\n",
        ".endswith()\n",
        ".isnumeric()\n",
        "\n",
        ".find()\n",
        ".isspace()\n",
        "\n",
        ".index()\n",
        ".istitle()\n",
        "\n",
        ".format()\n",
        ".isupper()\n",
        "\n",
        ".upper()\n",
        ".lower()\n",
        "\n",
        ".replace()\n",
        ".swapcase()\n",
        "\n",
        ".strip()\n",
        ".join()"
      ],
      "metadata": {
        "id": "muSvsm0A-LUh"
      }
    },
    {
      "cell_type": "markdown",
      "source": [
        "Vídeo del martes 28 de mayo, 2024 desde las 17:54 a las 21:10\n",
        "\n",
        "Duda de Sandra - 02:36:16 - Puede salir en una pregunta de entrevista: Lista dentro de tuplas.\n",
        "\n",
        "Reflexion de Gabri sobre niveles de los items de las tuplas  - 02:44:10\n",
        "\n",
        "# Reverse de tuplas: [::-1] - Revierte la orden de la lista.\n",
        "\n",
        "## 2:55:50 - Diferencias entre extend y append."
      ],
      "metadata": {
        "id": "LQUdjiIih5aO"
      }
    },
    {
      "cell_type": "code",
      "source": [
        "lista_ejemplo = []\n",
        "\n",
        "lista_ejemplo.extend([1, 2, 3])\n",
        "\n",
        "print(lista_ejemplo)\n",
        "len(lista_ejemplo)"
      ],
      "metadata": {
        "id": "raMqxlEZ-VPO",
        "colab": {
          "base_uri": "https://localhost:8080/"
        },
        "outputId": "ce02d6ed-8dfa-4b87-b05f-f71c620135af"
      },
      "execution_count": null,
      "outputs": [
        {
          "output_type": "stream",
          "name": "stdout",
          "text": [
            "[1, 2, 3]\n"
          ]
        },
        {
          "output_type": "execute_result",
          "data": {
            "text/plain": [
              "3"
            ]
          },
          "metadata": {},
          "execution_count": 1
        }
      ]
    },
    {
      "cell_type": "code",
      "source": [
        "lista_ejemplo = [1, 2, 3]\n",
        "lista_ejemplo.append([1, 2, 3])\n",
        "\n",
        "print(lista_ejemplo)\n",
        "len(lista_ejemplo)"
      ],
      "metadata": {
        "colab": {
          "base_uri": "https://localhost:8080/"
        },
        "id": "KPBS1mNqlv1W",
        "outputId": "581ebc43-f60a-4b0b-83e1-ab7cb3bf8d3e"
      },
      "execution_count": null,
      "outputs": [
        {
          "output_type": "stream",
          "name": "stdout",
          "text": [
            "[1, 2, 3, [1, 2, 3]]\n"
          ]
        },
        {
          "output_type": "execute_result",
          "data": {
            "text/plain": [
              "4"
            ]
          },
          "metadata": {},
          "execution_count": 2
        }
      ]
    },
    {
      "cell_type": "markdown",
      "source": [
        "extend([1, 2, 3]): El método extend() agrega todos los elementos de la lista [1, 2, 3] individualmente a la lista original. Es decir, \"extiende\" la lista lista_ejemplo añadiendo cada elemento de la lista proporcionada como un nuevo elemento de la lista original.\n",
        "\n",
        "En este caso, lista_ejemplo pasa de ser una lista vacía [] a contener los elementos [1, 2, 3].\n",
        "Resultado: lista_ejemplo es ahora [1, 2, 3] y su longitud es 3.\n",
        "\n"
      ],
      "metadata": {
        "id": "jRjcCMA5nbFc"
      }
    },
    {
      "cell_type": "markdown",
      "source": [
        "append([1, 2, 3]): El método append() agrega el entero [1, 2, 3] como un único elemento dentro de la lista. No extiende los elementos, sino que agrega la lista completa como un solo elemento dentro de la lista original.\n",
        "\n",
        "En este caso, lista_ejemplo comienza como [1, 2, 3], y luego se le agrega una nueva lista [1, 2, 3] como un único elemento. Es decir, la lista se convierte en [1, 2, 3, [1, 2, 3]].\n",
        "Resultado: lista_ejemplo es ahora [1, 2, 3, [1, 2, 3]] y su longitud es 4. La longitud se incrementa porque el método append() añade un solo elemento (que es una lista) y no los elementos de esa lista individualmente.\n",
        "\n",
        "Resumen de la diferencia:\n",
        "\n",
        "extend(): Añade cada elemento de la lista proporcionada de manera individual a la lista original.\n",
        "\n",
        "append(): Añade la lista completa como un único elemento dentro de la lista original."
      ],
      "metadata": {
        "id": "akO2NNBMnf3j"
      }
    },
    {
      "cell_type": "markdown",
      "source": [
        "## Bucle for y While\n",
        "\n",
        "Vídeo del martes 28 de mayo, 2024 desde las 21:10 a las 21:53\n",
        "\n",
        "15:00 - Inicio de los Bucles\n",
        "\n",
        "### Hacer apuntes despues, con ayuda de la siguiente clase + descripciones de GPT\n",
        "\n",
        "\n"
      ],
      "metadata": {
        "id": "bkAjlrmT3Mag"
      }
    },
    {
      "cell_type": "code",
      "source": [
        "lista = [2, 4 ,8]\n",
        "\n",
        "contador = 0\n",
        "\n",
        "for num in lista:\n",
        "  print(num)\n",
        "  contador = contador + 1\n",
        "\n",
        "for num2 in lista:\n",
        "  contador = contador + 1\n",
        "\n",
        ""
      ],
      "metadata": {
        "id": "gPY2gXbq3OHH",
        "colab": {
          "base_uri": "https://localhost:8080/"
        },
        "outputId": "a5a13c39-cc2f-4fd2-8459-661dd43ff0e1"
      },
      "execution_count": 1,
      "outputs": [
        {
          "output_type": "stream",
          "name": "stdout",
          "text": [
            "2\n",
            "4\n",
            "8\n"
          ]
        }
      ]
    },
    {
      "cell_type": "code",
      "source": [
        "print(contador)"
      ],
      "metadata": {
        "colab": {
          "base_uri": "https://localhost:8080/"
        },
        "id": "dA-5Kgy3WZ-0",
        "outputId": "270a5f5c-636c-4324-cc7a-a20faeb8528d"
      },
      "execution_count": 3,
      "outputs": [
        {
          "output_type": "stream",
          "name": "stdout",
          "text": [
            "6\n"
          ]
        }
      ]
    },
    {
      "cell_type": "markdown",
      "source": [
        "En este primer código, tienes una lista con tres elementos: [2, 4, 8].\n",
        "El primer bucle for recorre cada elemento de la lista y, por cada iteración, imprime el número y aumenta el contador en 1.\n",
        "Al final de este bucle, el contador se incrementa 3 veces, ya que hay 3 elementos en la lista (el contador pasa a ser 3).\n",
        "Luego, en el segundo bucle for, recorres nuevamente la lista y por cada elemento, aumentas el contador en 1.\n",
        "En total, el contador se incrementa otras 3 veces, y su valor final es 6.\n",
        "\n",
        "2N"
      ],
      "metadata": {
        "id": "CPqRHJ-ua40N"
      }
    },
    {
      "cell_type": "code",
      "source": [
        "lista = [2, 4 ,8]\n",
        "\n",
        "contador = 0\n",
        "\n",
        "for num in lista:\n",
        "  for num2 in lista:\n",
        "    contador = contador + 1"
      ],
      "metadata": {
        "id": "CO7P3s9iXpvh"
      },
      "execution_count": 4,
      "outputs": []
    },
    {
      "cell_type": "code",
      "source": [
        "print(contador)"
      ],
      "metadata": {
        "colab": {
          "base_uri": "https://localhost:8080/"
        },
        "id": "w8oYiDysXp4E",
        "outputId": "68ec2368-6be5-4c29-cabb-1c3c4db3d75b"
      },
      "execution_count": 5,
      "outputs": [
        {
          "output_type": "stream",
          "name": "stdout",
          "text": [
            "9\n"
          ]
        }
      ]
    },
    {
      "cell_type": "markdown",
      "source": [
        "En este segundo código, también tienes una lista de 3 elementos.\n",
        "El primer bucle for recorre los elementos de la lista (3 elementos), pero dentro de este bucle hay otro bucle for anidado que también recorre toda la lista (otros 3 elementos).\n",
        "En total, cada vez que el primer bucle recorre un elemento, el segundo bucle realiza 3 iteraciones más (una por cada elemento de la lista).\n",
        "Por lo tanto, el contador se incrementa 9 veces (3 elementos en el primer bucle * 3 elementos en el segundo bucle).\n",
        "\n",
        "N²"
      ],
      "metadata": {
        "id": "5RE7o3L1a9rG"
      }
    },
    {
      "cell_type": "code",
      "source": [
        "# Ejercicio de clase\n",
        "\n",
        "nombres = ['Maria', 'Jose', 'Ricardo', 'Federico']\n",
        "# Se define como nombre largo, aquellos que tengan seis o mas caracteres.\n",
        "# Generar una nueva lista de nombres largos, donde queden los nombres que sean largos"
      ],
      "metadata": {
        "id": "NxW8mhiQbOkY"
      },
      "execution_count": 6,
      "outputs": []
    },
    {
      "cell_type": "code",
      "source": [
        "lista = []\n",
        "\n",
        "for nombre in nombres:\n",
        "  if len(nombre) >= 6:\n",
        "    lista.append(nombre)"
      ],
      "metadata": {
        "id": "xm6B7L-plUn5"
      },
      "execution_count": 7,
      "outputs": []
    },
    {
      "cell_type": "code",
      "source": [
        "lista"
      ],
      "metadata": {
        "colab": {
          "base_uri": "https://localhost:8080/"
        },
        "id": "8dC8WEfyl2O3",
        "outputId": "19413bf5-7196-414a-fae2-d21cdb42a6aa"
      },
      "execution_count": 8,
      "outputs": [
        {
          "output_type": "execute_result",
          "data": {
            "text/plain": [
              "['Ricardo', 'Federico']"
            ]
          },
          "metadata": {},
          "execution_count": 8
        }
      ]
    },
    {
      "cell_type": "code",
      "source": [
        "# Source: Vídeo del jueves 30 de mayo, 2024 desde las 17:49 a las 20:55 - 1:40:42"
      ],
      "metadata": {
        "id": "xV9Gnv8VmjTQ"
      },
      "execution_count": null,
      "outputs": []
    },
    {
      "cell_type": "code",
      "source": [
        "# Inicio y final de un ciclo de if - if elif else - if elif if - 1:50"
      ],
      "metadata": {
        "id": "QD0JYIpK11eG"
      },
      "execution_count": null,
      "outputs": []
    },
    {
      "cell_type": "code",
      "source": [
        "#Ejercicio\n",
        "\n",
        "numeros = input('Ingresa una lista de numeros separados por espacios: ')\n",
        "numeros"
      ],
      "metadata": {
        "colab": {
          "base_uri": "https://localhost:8080/",
          "height": 53
        },
        "id": "zSF8opXs11gc",
        "outputId": "7bc14723-7f28-4a9d-b62f-ca4dd9944032"
      },
      "execution_count": 1,
      "outputs": [
        {
          "name": "stdout",
          "output_type": "stream",
          "text": [
            "Ingresa una lista de numeros separados por espacios: 1 2 3 4 5\n"
          ]
        },
        {
          "output_type": "execute_result",
          "data": {
            "text/plain": [
              "'1 2 3 4 5'"
            ],
            "application/vnd.google.colaboratory.intrinsic+json": {
              "type": "string"
            }
          },
          "metadata": {},
          "execution_count": 1
        }
      ]
    },
    {
      "cell_type": "code",
      "source": [
        "numeros = numeros.split(' ')\n",
        "numeros"
      ],
      "metadata": {
        "colab": {
          "base_uri": "https://localhost:8080/"
        },
        "id": "DEJmuHxz11iz",
        "outputId": "9de64cb3-f950-4901-9deb-89a3a15df075"
      },
      "execution_count": 3,
      "outputs": [
        {
          "output_type": "execute_result",
          "data": {
            "text/plain": [
              "['1', '2', '3', '4', '5']"
            ]
          },
          "metadata": {},
          "execution_count": 3
        }
      ]
    },
    {
      "cell_type": "code",
      "source": [
        "numeros_int = []\n",
        "\n",
        "for numero in numeros:\n",
        "  numeros_int.append(int(numero))"
      ],
      "metadata": {
        "id": "NaBXQ76E9z4r"
      },
      "execution_count": 4,
      "outputs": []
    },
    {
      "cell_type": "code",
      "source": [
        "numeros_int"
      ],
      "metadata": {
        "colab": {
          "base_uri": "https://localhost:8080/"
        },
        "id": "cHr_iPOe9z7r",
        "outputId": "4e4e4031-a8f7-4e1b-b7db-12bcb7b09e8f"
      },
      "execution_count": 5,
      "outputs": [
        {
          "output_type": "execute_result",
          "data": {
            "text/plain": [
              "[1, 2, 3, 4, 5]"
            ]
          },
          "metadata": {},
          "execution_count": 5
        }
      ]
    },
    {
      "cell_type": "markdown",
      "source": [
        "# Zip y Enumerate\n",
        "\n",
        "Esta función toma como argumento objetos iterables para recorrerlos al mismo tiempo en un bucle."
      ],
      "metadata": {
        "id": "PJE5zTZ1DPOk"
      }
    },
    {
      "cell_type": "markdown",
      "source": [
        "#### Vídeo del jueves 30 de mayo, 2024 desde las 20:55 a las 21:40 - 30:00"
      ],
      "metadata": {
        "id": "etE_VRl1DxRS"
      }
    },
    {
      "cell_type": "markdown",
      "source": [],
      "metadata": {
        "id": "sdTdNxgTEPm0"
      }
    },
    {
      "cell_type": "code",
      "source": [
        "lista_1 = ['a', 'b', 'c', 'd', 'e']\n",
        "lista_2 = [1, 2, 3, 4, 5]\n",
        "\n",
        "for i in range(len(lista_2)):\n",
        "  print(lista_1[i],lista_2[i])\n",
        "\n"
      ],
      "metadata": {
        "colab": {
          "base_uri": "https://localhost:8080/"
        },
        "id": "I8cSViAiEO5C",
        "outputId": "71a485d7-3fce-4d2f-b799-1cde32d3bb16"
      },
      "execution_count": 13,
      "outputs": [
        {
          "output_type": "stream",
          "name": "stdout",
          "text": [
            "a 1\n",
            "b 2\n",
            "c 3\n",
            "d 4\n",
            "e 5\n"
          ]
        }
      ]
    },
    {
      "cell_type": "code",
      "source": [
        "# Lo mismo con zip\n",
        "\n",
        "lista_1 = [\"a\", \"b\", \"c\", \"d\", \"e\"]\n",
        "lista_2 = [1,    2,    3,   4,   5,  6 , 7]\n",
        "\n",
        "for i,j in zip(lista_1, lista_2):\n",
        "  print(i,j)"
      ],
      "metadata": {
        "colab": {
          "base_uri": "https://localhost:8080/"
        },
        "id": "ADz0nj1dDSuX",
        "outputId": "8ff97532-baf2-4201-dadd-93ed792227e1"
      },
      "execution_count": 14,
      "outputs": [
        {
          "output_type": "stream",
          "name": "stdout",
          "text": [
            "a 1\n",
            "b 2\n",
            "c 3\n",
            "d 4\n",
            "e 5\n"
          ]
        }
      ]
    },
    {
      "cell_type": "markdown",
      "source": [
        "#### zip(lista_1, lista_2) emparejará las primeras 5 tuplas, tomando un elemento de cada lista en cada iteración, y luego dejará de generar más tuplas cuando se agoten los elementos de lista_1, aunque lista_2 tenga elementos restantes.\n",
        "\n",
        "En tu caso, lista_1 tiene 5 elementos y lista_2 tiene 7. Como zip() se detiene cuando llega al final del iterable más corto, se detendrá después del quinto elemento, ya que esa es la longitud de lista_1."
      ],
      "metadata": {
        "id": "NMADe_F-H2eo"
      }
    },
    {
      "cell_type": "code",
      "source": [
        "zip? # Mirar documentacion\n"
      ],
      "metadata": {
        "id": "_bm3iSBZDTaQ"
      },
      "execution_count": null,
      "outputs": []
    },
    {
      "cell_type": "markdown",
      "source": [
        "## Enumerate\n",
        "\n",
        "Esta función \"crea\" un índice utilizando un objeto iterable, se usa en conjunto con los bucles para tener un tipo de \"contador\". - 41:00"
      ],
      "metadata": {
        "id": "HIayr-XyIpqO"
      }
    },
    {
      "cell_type": "code",
      "source": [
        "lista = [\"a\", \"b\", \"c\", \"d\", \"e\"]"
      ],
      "metadata": {
        "id": "cGDzB6dhIw60"
      },
      "execution_count": 17,
      "outputs": []
    },
    {
      "cell_type": "code",
      "source": [
        "for idx, letra in enumerate(lista):\n",
        "  print(idx, letra)"
      ],
      "metadata": {
        "colab": {
          "base_uri": "https://localhost:8080/"
        },
        "id": "-2Z2jUTJIxb0",
        "outputId": "05f4994b-752a-4f37-992b-0de085e57389"
      },
      "execution_count": 18,
      "outputs": [
        {
          "output_type": "stream",
          "name": "stdout",
          "text": [
            "0 a\n",
            "1 b\n",
            "2 c\n",
            "3 d\n",
            "4 e\n"
          ]
        }
      ]
    },
    {
      "cell_type": "markdown",
      "source": [
        "### Sets\n",
        "\n",
        " Sets (set)\n",
        "En python, un set es una colección de elementos que no posee órden, por lo tanto no tiene indice. Debido a esto no podemos elegir en que orden aparecen sus elementos.\n",
        "Los sets son mutables y NO permiten elemento repetidos, lo que es útil en situaciones que tenemos que utilizar valores únicos.\n",
        "Se denotan con llaves {} y son muy utilizados en la teoria de grupos.\n",
        "\n",
        "Métodos\n",
        "\n",
        ".add() - Agrega un elemento al set\n",
        "\n",
        ".clear() - Vacia el set\n",
        "\n",
        ".difference() - Retorna los elementos no comunes de ambos sets\n",
        "\n",
        ".remove() - Elimina un elemento especifico del set\n",
        "\n",
        ".pop() - Elimina un elemento del set y lo retorna\n",
        "\n",
        ".intersection() - Retorna los elementos en comun de dos sets\n",
        "\n",
        ".union() - Retorna la unión de dos sets\n",
        "\n",
        ".update() - Agrega a un set los elementos de otro objeto iterable\n",
        "\n",
        "29:00\n"
      ],
      "metadata": {
        "id": "XW0CtuMaKwpv"
      }
    },
    {
      "cell_type": "markdown",
      "source": [
        "### Ejemplos prácticos donde es más adecuado usar un set en vez de un diccionario:\n",
        "\n",
        "1. Eliminación de duplicados\n",
        "\n",
        "El uso más común de un set es para eliminar duplicados de una lista o colección de elementos. Los sets no permiten elementos duplicados, por lo que si necesitas garantizar que todos los elementos sean únicos, un set es ideal."
      ],
      "metadata": {
        "id": "7vKJPEp3LEoe"
      }
    },
    {
      "cell_type": "code",
      "source": [
        "nombres = [\"Ana\", \"Carlos\", \"Ana\", \"Juan\", \"Carlos\", \"Pedro\"]\n",
        "nombres_unicos = set(nombres)\n",
        "\n",
        "print(nombres_unicos)"
      ],
      "metadata": {
        "colab": {
          "base_uri": "https://localhost:8080/"
        },
        "id": "Tv2lJERzLDVh",
        "outputId": "dedaeefd-3225-4d03-f161-0ce7034d1c17"
      },
      "execution_count": 19,
      "outputs": [
        {
          "output_type": "stream",
          "name": "stdout",
          "text": [
            "{'Juan', 'Carlos', 'Ana', 'Pedro'}\n"
          ]
        }
      ]
    },
    {
      "cell_type": "markdown",
      "source": [
        "Operaciones matemáticas con conjuntos\n",
        "Los sets son ideales cuando necesitas realizar operaciones típicas de teoría de conjuntos, como la unión, intersección, diferencia, y diferencia simétrica.\n",
        "\n",
        "Ejemplo:\n",
        "Supón que tienes dos conjuntos de estudiantes que tomaron diferentes cursos, y deseas encontrar los estudiantes que tomaron ambos cursos (intersección), o los que tomaron al menos uno de los dos cursos (unión)."
      ],
      "metadata": {
        "id": "pbpiaSbELdJF"
      }
    },
    {
      "cell_type": "code",
      "source": [
        "curso_1 = {\"Ana\", \"Carlos\", \"Juan\", \"Pedro\"}\n",
        "curso_2 = {\"Carlos\", \"Pedro\", \"Luis\", \"María\"}\n",
        "\n",
        "# Intersección (quienes están en ambos cursos)\n",
        "interseccion = curso_1 & curso_2\n",
        "print(interseccion)\n",
        "\n",
        "# Unión (quienes están en al menos uno de los dos cursos)\n",
        "union = curso_1 | curso_2\n",
        "print(union)"
      ],
      "metadata": {
        "colab": {
          "base_uri": "https://localhost:8080/"
        },
        "id": "0KxYvfWfLXP2",
        "outputId": "19c77a32-0bda-45aa-a9ee-b26f1cb43f64"
      },
      "execution_count": 20,
      "outputs": [
        {
          "output_type": "stream",
          "name": "stdout",
          "text": [
            "{'Pedro', 'Carlos'}\n",
            "{'María', 'Pedro', 'Carlos', 'Juan', 'Luis', 'Ana'}\n"
          ]
        }
      ]
    },
    {
      "cell_type": "markdown",
      "source": [
        "##### Aunque podrías usar un diccionario con las claves representando a los estudiantes, un set es mucho más directo y eficiente para este tipo de operaciones."
      ],
      "metadata": {
        "id": "AoXtGERsLpnC"
      }
    },
    {
      "cell_type": "markdown",
      "source": [
        "3. Evitar almacenar valores adicionales\n",
        "Los sets solo contienen valores, mientras que los diccionarios almacenan claves y valores.\n",
        "\n",
        "Si solo necesitas una colección de elementos y no necesitas asociar información adicional con esos elementos, un set es más adecuado porque ocupa menos espacio y es más sencillo de manejar."
      ],
      "metadata": {
        "id": "BUG42vOpLzka"
      }
    },
    {
      "cell_type": "markdown",
      "source": [
        "## Conclusión:\n",
        "Usar un set es más apropiado cuando:\n",
        "\n",
        "Necesitas únicos elementos.\n",
        "\n",
        "Quieres realizar operaciones de conjunto (unión, intersección, diferencia).\n",
        "\n",
        "Necesitas comprobar si un elemento existe sin asociarle un valor.\n",
        "\n",
        "No te importa almacenar solo los elementos, sin valores adicionales.\n",
        "\n",
        "Un diccionario es mejor cuando necesitas asociar clave-valor, pero si solo necesitas almacenar los elementos de forma única sin valores adicionales, un set es mucho más adecuado y eficiente."
      ],
      "metadata": {
        "id": "-iDSeBT9L9f1"
      }
    },
    {
      "cell_type": "code",
      "source": [
        "# Hacer ejercicios de Sets\n",
        "\n"
      ],
      "metadata": {
        "id": "JAASnt00-o9O"
      },
      "execution_count": null,
      "outputs": []
    },
    {
      "cell_type": "markdown",
      "source": [
        " Ejercicio 11\n",
        "\n",
        "1. Pide al usuario que ingrese 3 empresas de tecnología, estos elementos agregalos al set_1 = {\"Meta\", \"Google\", \"Amazon\"}\n",
        "\n",
        "2. Verifica que no se repita ninguna empresa y dile al usuario que no se repitio ninguna empresa."
      ],
      "metadata": {
        "id": "MUZTys7VUz9l"
      }
    },
    {
      "cell_type": "code",
      "source": [
        "set_1 = {\"Meta\", \"Google\", \"Amazon\"}"
      ],
      "metadata": {
        "id": "Aa07_erdU5wF"
      },
      "execution_count": 25,
      "outputs": []
    },
    {
      "cell_type": "code",
      "source": [
        "companies = str(input('Please input 3 companies separated by commas: '))\n",
        "companies = companies.split(',')\n",
        "print(companies)"
      ],
      "metadata": {
        "colab": {
          "base_uri": "https://localhost:8080/"
        },
        "id": "xUwquQOIVBvH",
        "outputId": "cea9faa2-8230-4053-8a75-80537676cfca"
      },
      "execution_count": 26,
      "outputs": [
        {
          "output_type": "stream",
          "name": "stdout",
          "text": [
            "Please input 3 companies separated by commas: Transperfect,Airbnb,Telus\n",
            "['Transperfect', 'Airbnb', 'Telus']\n"
          ]
        }
      ]
    },
    {
      "cell_type": "code",
      "source": [
        "set_1.update(companies)\n",
        "set_1"
      ],
      "metadata": {
        "colab": {
          "base_uri": "https://localhost:8080/"
        },
        "id": "gmkwX6BkVBql",
        "outputId": "bc3003f6-2cdc-4bea-8fb9-eb1238f9602e"
      },
      "execution_count": 27,
      "outputs": [
        {
          "output_type": "execute_result",
          "data": {
            "text/plain": [
              "{'Airbnb', 'Amazon', 'Google', 'Meta', 'Telus', 'Transperfect'}"
            ]
          },
          "metadata": {},
          "execution_count": 27
        }
      ]
    },
    {
      "cell_type": "code",
      "source": [
        "if len(set_1) == 6:\n",
        "  print('None of the companies repeats')\n",
        "\n",
        "else:\n",
        "  print('There are companies that repeat')"
      ],
      "metadata": {
        "colab": {
          "base_uri": "https://localhost:8080/"
        },
        "id": "oAEbIF1FXvn4",
        "outputId": "c02af551-749b-44b6-abe4-4cee3528fea2"
      },
      "execution_count": 29,
      "outputs": [
        {
          "output_type": "stream",
          "name": "stdout",
          "text": [
            "None of the companies repeats\n"
          ]
        }
      ]
    },
    {
      "cell_type": "markdown",
      "source": [
        "Ejercicio 12\n",
        "\n",
        "1 . Repite el ejercicio anterior pero ahora imprime las empresas que se repiten en caso de que existiera uno o más que se repitan."
      ],
      "metadata": {
        "id": "6FGUwNTMU9FR"
      }
    },
    {
      "cell_type": "code",
      "source": [
        "set_1 = {\"Meta\", \"Google\", \"Amazon\"}\n",
        "\n",
        "set_2 = str(input('Please input 3 companies separated by commas: '))\n",
        "\n",
        "set_2 = [empresa.strip() for empresa in set_2.split(',')]\n",
        "\n",
        "print(set_2)"
      ],
      "metadata": {
        "colab": {
          "base_uri": "https://localhost:8080/"
        },
        "id": "erFLAWc_VCq3",
        "outputId": "a3f29954-1aa0-49e3-edad-e38d398e0d98"
      },
      "execution_count": 6,
      "outputs": [
        {
          "output_type": "stream",
          "name": "stdout",
          "text": [
            "Please input 3 companies separated by commas: Amazon,Global,Google\n",
            "['Amazon', 'Global', 'Google']\n"
          ]
        }
      ]
    },
    {
      "cell_type": "code",
      "source": [
        "for empresa in set_2:\n",
        "  if empresa in set_1:\n",
        "    print('This company repeats: ', empresa)\n",
        "\n",
        "  else:\n",
        "    set_1.update([empresa])\n",
        "\n",
        "print(set_1)"
      ],
      "metadata": {
        "colab": {
          "base_uri": "https://localhost:8080/"
        },
        "id": "QnYWNAm5Z9Ht",
        "outputId": "afc132ea-4648-4f73-d90b-fe534b72da8d"
      },
      "execution_count": 7,
      "outputs": [
        {
          "output_type": "stream",
          "name": "stdout",
          "text": [
            "This company repeats:  Amazon\n",
            "This company repeats:  Google\n",
            "{'Amazon', 'Global', 'Meta', 'Google'}\n"
          ]
        }
      ]
    },
    {
      "cell_type": "code",
      "source": [],
      "metadata": {
        "id": "96eQBEc5Z9KQ"
      },
      "execution_count": null,
      "outputs": []
    },
    {
      "cell_type": "markdown",
      "source": [
        "Ejercicio 13\n",
        "\n",
        "1. Dadas las siguientes frases_1 = \"En una galaxia lejana\" y frase_2 = \"Una galaxia llamadá Via Lactea\", haz la intersección de las palabras."
      ],
      "metadata": {
        "id": "hmzyv3xdVIOX"
      }
    },
    {
      "cell_type": "code",
      "source": [
        "phrase_1 = \"En una galaxia lejana\"\n",
        "phrase_2 = \"Una galaxia llamadá Via Lactea\"\n",
        "\n",
        "set_1 = set(phrase_1.split())\n",
        "set_2 = set(phrase_2.split())\n",
        "\n",
        "print(set_1)\n",
        "print(set_2)\n"
      ],
      "metadata": {
        "colab": {
          "base_uri": "https://localhost:8080/"
        },
        "id": "ZWSNliPZVKpk",
        "outputId": "e9822542-fb7b-4820-88d1-30a8765b6445"
      },
      "execution_count": 11,
      "outputs": [
        {
          "output_type": "stream",
          "name": "stdout",
          "text": [
            "{'En', 'una', 'lejana', 'galaxia'}\n",
            "{'Una', 'galaxia', 'Via', 'llamadá', 'Lactea'}\n"
          ]
        }
      ]
    },
    {
      "cell_type": "code",
      "source": [
        "intersect = phrase_1.interseccion(phrase_2)\n",
        "intersect"
      ],
      "metadata": {
        "id": "yGxmg7jTldJI"
      },
      "execution_count": null,
      "outputs": []
    },
    {
      "cell_type": "markdown",
      "source": [
        "Ejercicio 14\n",
        "\n",
        "1. Encuentra la diferencia entre el set_1 = {9, 8, 7, 6, 5, 4, 3, 2} y el set_2 = {9, 8, 10}\n",
        "2. Extra: hazlo utilizando un bucle for y no la función."
      ],
      "metadata": {
        "id": "10rJNRoEVMbM"
      }
    },
    {
      "cell_type": "code",
      "source": [
        "set_1 = {9, 8, 7, 6, 5, 4, 3, 2}\n",
        "set_2 = {9, 8, 10}\n",
        "\n",
        "lista = []\n",
        "\n",
        "for numeros in set_1:\n",
        "  if numeros not in set_2:\n",
        "    lista.append(numeros)\n",
        "\n",
        "print(lista)\n"
      ],
      "metadata": {
        "colab": {
          "base_uri": "https://localhost:8080/"
        },
        "id": "-kUxZ3pgVRKo",
        "outputId": "02b8c712-2b8a-4ac0-e18c-0e99f154cbe1"
      },
      "execution_count": 12,
      "outputs": [
        {
          "output_type": "stream",
          "name": "stdout",
          "text": [
            "[2, 3, 4, 5, 6, 7]\n"
          ]
        }
      ]
    },
    {
      "cell_type": "markdown",
      "source": [
        "## Dictionaries (dict)\n",
        "En python, los diccionarios son una estructura de datos y un tipo de dato. La principal característica de los diccionarios es que cada elemento tiene un par de llave y valor (key y value).\n",
        "\n",
        "La llave o key se utiliza para identificar un elemento del diccionario, funciona como un indice, normalmente las llaves son numeros o strings.\n",
        "\n",
        "El valor o value es el elemento asociado a la llave, este valor puede ser cualquier tipo de dato (numero, string, lista, tupla, diccionario...).\n",
        "\n",
        "Al igual que los sets los diccionarios NO tienen un orden, además las llaves son únicas, es decir, no se pueden repetir.\n",
        "\n",
        "Los diccionarios se denotan con {} y utilizan : para separar las llaves y los valores. Este tipo de dato también se le conoce como JSON en otros lenguajes.\n",
        "\n",
        "Vídeo del lunes 3 de junio, 2024 desde las 17:41 a las 21:27 - 52:00"
      ],
      "metadata": {
        "id": "0QiBaYLVTw0c"
      }
    },
    {
      "cell_type": "markdown",
      "source": [
        " Ejercicio 15\n",
        "\n",
        "1. Crea un diccionario con 5 elementos (5 llaves y 5 valores)\n",
        "\n",
        "Llave: Color\n",
        "\n",
        "Valor: Numero de letras del color"
      ],
      "metadata": {
        "id": "X-IcfDpXVS2Y"
      }
    },
    {
      "cell_type": "code",
      "source": [
        "dict = {yellow : 1, red : 2, green : 3, brown : 4, purple : 5}"
      ],
      "metadata": {
        "id": "S50D62yeT5fB"
      },
      "execution_count": null,
      "outputs": []
    },
    {
      "cell_type": "markdown",
      "source": [
        " Ejercicio 16\n",
        "\n",
        "1. Crea un diccionario con 5 elementos pero esta vez pregunta el usuario por cada llave y valor.\n",
        "\n",
        "Llave: Color\n",
        "\n",
        "Valor: Numero de letras del color"
      ],
      "metadata": {
        "id": "mD6PLqnfVdu9"
      }
    },
    {
      "cell_type": "code",
      "source": [
        "dict_empty = {}\n",
        "\n",
        "for i in range(5): # Vamos a repetir el proceso 5 veces\n",
        "  key = str(input('Input one color: ')) # Pedimos al usuario un color (que será la \"llave\")\n",
        "  value = len(key) # Calculamos el número de letras del color (será el \"valor\")\n",
        "\n",
        "  dict_empty[key] = value # Añadimos la clave y el valor al diccionario\n",
        "\n",
        "\n",
        "\n"
      ],
      "metadata": {
        "colab": {
          "base_uri": "https://localhost:8080/"
        },
        "id": "CRY0R_6jVm7P",
        "outputId": "90596ca3-bef4-4940-909c-e9d12e031544"
      },
      "execution_count": 13,
      "outputs": [
        {
          "name": "stdout",
          "output_type": "stream",
          "text": [
            "Input one color: Yellow\n",
            "Input one color: Red\n",
            "Input one color: Purple\n",
            "Input one color: Green\n",
            "Input one color: Brown\n"
          ]
        }
      ]
    },
    {
      "cell_type": "code",
      "source": [
        "dict_empty"
      ],
      "metadata": {
        "colab": {
          "base_uri": "https://localhost:8080/"
        },
        "id": "k5Wu_1ifshLj",
        "outputId": "c576047f-843d-4c0f-b9f8-abce6e9fd127"
      },
      "execution_count": 14,
      "outputs": [
        {
          "output_type": "execute_result",
          "data": {
            "text/plain": [
              "{'Yellow': 6, 'Red': 3, 'Purple': 6, 'Green': 5, 'Brown': 5}"
            ]
          },
          "metadata": {},
          "execution_count": 14
        }
      ]
    },
    {
      "cell_type": "markdown",
      "source": [
        "# Notas de repaso\n",
        "\n",
        "[] se usa para acceder a los valores del diccionario a través de las claves. Los corchetes nos permiten obtener, agregar o modificar el valor asociado a una clave específica en un diccionario.\n",
        "\n",
        "-------------------------------------------------\n",
        "\n",
        "Comparando dict['clave'] y dict.get('clave'):\n",
        "1. Acceso con dict['clave']:\n",
        "Sintaxis: valor = dict['clave']\n",
        "\n",
        "Comportamiento:\n",
        "\n",
        "Si la clave existe en el diccionario, devuelve el valor asociado con esa clave.\n",
        "\n",
        "Si la clave no existe, genera un error de tipo KeyError.\n",
        "-------------------------------------------------\n",
        "\n",
        "Acceso con dict.get('clave'):\n",
        "Sintaxis: valor = dict.get('clave')\n",
        "\n",
        "Comportamiento:\n",
        "\n",
        "Si la clave existe, devuelve el valor asociado con esa clave, igual que dict['clave'].\n",
        "Si la clave no existe, no lanza un error. En lugar de eso, devuelve None por defecto. Sin embargo, puedes especificar un valor predeterminado que se devuelve en caso de que la clave no se encuentre.\n",
        "\n"
      ],
      "metadata": {
        "id": "gDb5DffwuOQL"
      }
    },
    {
      "cell_type": "markdown",
      "source": [
        " Ejercicio 17\n",
        "\n",
        "1. Repite el ejercicio anterior pero de la siguiente forma:\n",
        "\n",
        "Primero crea en una lista los colores y en otra lista el numero de letras.\n",
        "\n",
        "Después crea el diccionario a partir de las listas."
      ],
      "metadata": {
        "id": "znKffeMVVygu"
      }
    },
    {
      "cell_type": "code",
      "source": [
        "colors = ['Yellow','Brown',\n",
        "          'Red','Purple', 'Blue']\n",
        "\n",
        "nr_letters = [6, 5, 3, 6, 4]\n",
        "\n",
        "dict_empty = {}\n",
        "\n",
        "for color, count in zip(colors,nr_letters):\n",
        "  print(color,count)\n",
        "  dict_empty[color] = count\n",
        "\n",
        "dict_empty"
      ],
      "metadata": {
        "colab": {
          "base_uri": "https://localhost:8080/"
        },
        "id": "I_ZGdllDV2vD",
        "outputId": "3d224cb8-0b77-4774-d9f5-2c8e3ff9b479"
      },
      "execution_count": 16,
      "outputs": [
        {
          "output_type": "stream",
          "name": "stdout",
          "text": [
            "Yellow 6\n",
            "Brown 5\n",
            "Red 3\n",
            "Purple 6\n",
            "Blue 4\n"
          ]
        },
        {
          "output_type": "execute_result",
          "data": {
            "text/plain": [
              "{'Yellow': 6, 'Brown': 5, 'Red': 3, 'Purple': 6, 'Blue': 4}"
            ]
          },
          "metadata": {},
          "execution_count": 16
        }
      ]
    },
    {
      "cell_type": "markdown",
      "source": [
        " Ejercicio 18\n",
        "\n",
        "Pide al usuario que ingrese 3 números distintos y guarda esos números como llaves y crea los valores utilizando la siguiente formula:\n",
        "\n",
        "x : x**2\n",
        "\n",
        "Donde x es la llave."
      ],
      "metadata": {
        "id": "OYjUogwqV3KT"
      }
    },
    {
      "cell_type": "code",
      "source": [
        "dict_empty = {}\n",
        "\n",
        "for i in range(3):\n",
        "  number = int(input('Please, input an integer number: '))\n",
        "  dict_empty[number] = number **2\n",
        "\n",
        "dict_empty\n",
        "\n",
        "\n"
      ],
      "metadata": {
        "colab": {
          "base_uri": "https://localhost:8080/"
        },
        "id": "SEZ1vluO07mN",
        "outputId": "37b56ad0-1c1b-4731-ace3-550584a5b5f8"
      },
      "execution_count": 17,
      "outputs": [
        {
          "name": "stdout",
          "output_type": "stream",
          "text": [
            "Please, input an integer number: 2\n",
            "Please, input an integer number: 6\n",
            "Please, input an integer number: 10\n"
          ]
        },
        {
          "output_type": "execute_result",
          "data": {
            "text/plain": [
              "{2: 4, 6: 36, 10: 100}"
            ]
          },
          "metadata": {},
          "execution_count": 17
        }
      ]
    },
    {
      "cell_type": "markdown",
      "source": [
        "Explicación paso a paso:\n",
        "dict_vacio = {}: Creamos un diccionario vacío donde almacenaremos las claves y sus valores.\n",
        "\n",
        "for i in range(3):: Este bucle for se ejecutará 3 veces (una vez por cada número que el usuario ingrese).\n",
        "\n",
        "range(3) genera los números 0, 1, 2, pero no los usamos directamente. Lo importante es que el bucle se repita 3 veces.\n",
        "numero = int(input(\"Ingrese un número entero: \")): En cada iteración del bucle, le pedimos al usuario que ingrese un número. Este número se convierte en un entero gracias a int().\n",
        "\n",
        "dict_vacio[numero] = numero**2: Usamos el número ingresado como clave y su cuadrado como valor. Esto agrega un nuevo par clave-valor al diccionario.\n",
        "\n",
        "print(dict_vacio): Finalmente, mostramos el diccionario completo con las claves y sus respectivos valores (cuadrados de los números)."
      ],
      "metadata": {
        "id": "5Q5potTD5lrp"
      }
    },
    {
      "cell_type": "markdown",
      "source": [
        "Resumiendo la pregunta del input() y el bucle:\n",
        "Si necesitas que el programa repita una acción varias veces (en este caso, pedir números al usuario), el input() debe estar dentro del bucle.\n",
        "\n",
        "\n",
        "Usamos range(3) para que el bucle se ejecute 3 veces. Podrías usar otro número si necesitaras pedir más o menos números."
      ],
      "metadata": {
        "id": "v-S9z78w5qJw"
      }
    },
    {
      "cell_type": "markdown",
      "source": [
        "Resumen de las salidas más comunes:\n",
        "\n",
        "Método\t    Tipo de salida\n",
        "-------------------------------------------------\n",
        "\n",
        "str.upper()\tString (cadena)\n",
        "\n",
        "str.split()\tLista (list)\n",
        "\n",
        "str.strip()\tString (cadena)\n",
        "\n",
        "list.append()\tNone (modifica lista)\n",
        "\n",
        "list.pop()\tElemento (valor)\n",
        "\n",
        "dict.items()\tdict_items (view object, iterable de tuplas)\n",
        "\n",
        "dict.keys()\tdict_keys (view object, iterable de claves)\n",
        "\n",
        "dict.values()\tdict_values (view object, iterable de valores)\n",
        "\n",
        "dict.get()\tValor (o None si no existe)\n",
        "\n",
        "set.add()\tNone (modifica set)\n",
        "\n",
        "set.union()\tSet (nuevo set)\n",
        "\n",
        "range()\trange object (iterable, pero no lista ni tupla)"
      ],
      "metadata": {
        "id": "CTGCkd8P54ZM"
      }
    },
    {
      "cell_type": "markdown",
      "source": [
        " Ejercicio 19\n",
        "\n",
        "Pide al usuario que ingrese una frase y agrega las palabras como keys y la frecuencia de cada palabra como value en un diccionario.\n",
        "\n",
        "Usa la función Counter."
      ],
      "metadata": {
        "id": "9AN-7sT2V7W1"
      }
    },
    {
      "cell_type": "code",
      "source": [
        "phrase = str(input('Please, write a sentence you wish: '))\n",
        "\n",
        "phrase = phrase.split(' ')\n",
        "\n",
        "phrase"
      ],
      "metadata": {
        "colab": {
          "base_uri": "https://localhost:8080/"
        },
        "id": "hbiefAndV-Rq",
        "outputId": "21c5dd9c-582d-4dd5-e111-08feaa595e7e"
      },
      "execution_count": 20,
      "outputs": [
        {
          "name": "stdout",
          "output_type": "stream",
          "text": [
            "Please, write a sentence you wish: o benfica e o maior\n"
          ]
        },
        {
          "output_type": "execute_result",
          "data": {
            "text/plain": [
              "['o', 'benfica', 'e', 'o', 'maior']"
            ]
          },
          "metadata": {},
          "execution_count": 20
        }
      ]
    },
    {
      "cell_type": "code",
      "source": [
        "from collections import Counter\n",
        "Counter(phrase)"
      ],
      "metadata": {
        "colab": {
          "base_uri": "https://localhost:8080/"
        },
        "id": "WymJ37Ct6nQZ",
        "outputId": "8b9007c3-9e15-4847-f7e3-778d90a7cb6c"
      },
      "execution_count": 21,
      "outputs": [
        {
          "output_type": "execute_result",
          "data": {
            "text/plain": [
              "Counter({'o': 2, 'benfica': 1, 'e': 1, 'maior': 1})"
            ]
          },
          "metadata": {},
          "execution_count": 21
        }
      ]
    },
    {
      "cell_type": "markdown",
      "source": [
        " Ejercicio 20\n",
        "\n",
        "Crea un programa donde las keys son 7 números aleatorios entre el 100 y el 200 y en los values debe de estar la palabra par o impar, si el número es par o impar"
      ],
      "metadata": {
        "id": "38nmajH8V-ud"
      }
    },
    {
      "cell_type": "code",
      "source": [
        "import random\n",
        "dict_empty = {}\n",
        "\n",
        "for i in range(7):\n",
        "  random_num = random.randint(100,200)\n",
        "\n",
        "  if random_num % 2 == 0:\n",
        "    dict_empty[random_num] = 'Even'\n",
        "\n",
        "  else:\n",
        "    dict_empty[random_num] = 'Odd'\n",
        "\n",
        "dict_empty\n",
        "\n",
        "\n",
        "\n"
      ],
      "metadata": {
        "colab": {
          "base_uri": "https://localhost:8080/"
        },
        "id": "2rvO2f_4WBZq",
        "outputId": "c77a42a1-0946-4e49-b93f-c842975bead9"
      },
      "execution_count": 22,
      "outputs": [
        {
          "output_type": "execute_result",
          "data": {
            "text/plain": [
              "{123: 'Odd',\n",
              " 185: 'Odd',\n",
              " 124: 'Even',\n",
              " 101: 'Odd',\n",
              " 131: 'Odd',\n",
              " 125: 'Odd',\n",
              " 150: 'Even'}"
            ]
          },
          "metadata": {},
          "execution_count": 22
        }
      ]
    },
    {
      "cell_type": "markdown",
      "source": [
        " Ejercicio 21\n",
        "\n",
        "Crea un programa donde las keys son 10 números enteros aleatorios entre el 1 y el 50 y para cada value del diccionario vamos a utilizar la siguiente formula x : 1/x"
      ],
      "metadata": {
        "id": "kS42_JomWB12"
      }
    },
    {
      "cell_type": "code",
      "source": [
        "dict_empty = {}\n",
        "\n",
        "for i in range(10):\n",
        "  random_num = random.randint(1, 50)\n",
        "\n",
        "  dict_empty[random_num] = 1/random_num\n",
        "\n",
        "dict_empty"
      ],
      "metadata": {
        "colab": {
          "base_uri": "https://localhost:8080/"
        },
        "id": "Rft8nwbEWIeV",
        "outputId": "4be021f4-19dc-40b2-f85b-7713a2216edf"
      },
      "execution_count": 23,
      "outputs": [
        {
          "output_type": "execute_result",
          "data": {
            "text/plain": [
              "{16: 0.0625,\n",
              " 43: 0.023255813953488372,\n",
              " 14: 0.07142857142857142,\n",
              " 30: 0.03333333333333333,\n",
              " 19: 0.05263157894736842,\n",
              " 3: 0.3333333333333333,\n",
              " 23: 0.043478260869565216,\n",
              " 9: 0.1111111111111111,\n",
              " 8: 0.125}"
            ]
          },
          "metadata": {},
          "execution_count": 23
        }
      ]
    },
    {
      "cell_type": "code",
      "source": [],
      "metadata": {
        "id": "_h3B8u-pWE22"
      },
      "execution_count": null,
      "outputs": []
    },
    {
      "cell_type": "markdown",
      "source": [
        " Ejercicio 22\n",
        "\n",
        "Crea un programa que dados los siguientes diccionarios: d1 = {\"a\" : 125, \"b\" : 130, \"c\" : 150}, d2 = {\"e\" :  10, \"b\" : 20, \"a\" : 30}, sume los items que tienen la misma key y guarde esas keys con la suma de los values en un nuevo diccionario"
      ],
      "metadata": {
        "id": "07jR0JbwWGh0"
      }
    },
    {
      "cell_type": "code",
      "source": [
        "d1 = {\"a\" : 125, \"b\" : 130, \"c\" : 150}\n",
        "d2 = {\"e\" : 10, \"b\" : 20, \"a\" : 30}"
      ],
      "metadata": {
        "id": "f2MeoZuxWJW7"
      },
      "execution_count": 26,
      "outputs": []
    },
    {
      "cell_type": "code",
      "source": [
        "d3 = {}\n",
        "\n",
        "d3.update(d1)\n",
        "\n",
        "for k, v in d2.items():\n",
        "  if k in d3:\n",
        "    d3[k] += v\n",
        "  else:\n",
        "    d3[k] = v\n",
        "\n",
        "d3\n"
      ],
      "metadata": {
        "colab": {
          "base_uri": "https://localhost:8080/"
        },
        "id": "yNJVJazGL0LV",
        "outputId": "fdc69f3d-1b84-4b8b-de67-2eb9ddd76218"
      },
      "execution_count": 28,
      "outputs": [
        {
          "output_type": "execute_result",
          "data": {
            "text/plain": [
              "{'a': 155, 'b': 150, 'c': 150, 'e': 10}"
            ]
          },
          "metadata": {},
          "execution_count": 28
        }
      ]
    },
    {
      "cell_type": "markdown",
      "source": [
        "### Extra:\n",
        "\n",
        "lista_nombres = ['Federico', 'maria','JUAN','Ricardo']\n",
        "\n",
        "### Generar un dicc donde la clave sea el nombre\n",
        "### Y el valor la cantidad de caracteres\n",
        "### El nombre debe estar primera letra mayuscula y las demas minusculas\n",
        "\n",
        "## Ejemplo:\n",
        "{'Federico': 8, 'Maria' : 5, 'Juan': 4, 'Ricardo':7}\n",
        "\n"
      ],
      "metadata": {
        "id": "TfiH7e28Q2sB"
      }
    },
    {
      "cell_type": "code",
      "source": [
        "lista_nombres = ['Federico', 'maria','JUAN','Ricardo']\n",
        "\n",
        "dict_empty = {}\n",
        "\n",
        "for nombre in lista_nombres:\n",
        "  print(nombre.capitalize())\n",
        "  dict_empty[nombre.capitalize()] = len(nombre)\n",
        "\n",
        "dict_empty\n",
        "\n",
        "\n"
      ],
      "metadata": {
        "colab": {
          "base_uri": "https://localhost:8080/"
        },
        "id": "UTDMB9FnRjzJ",
        "outputId": "7f86ff75-12d0-4b7c-fcfd-c797c9d8d37c"
      },
      "execution_count": 33,
      "outputs": [
        {
          "output_type": "stream",
          "name": "stdout",
          "text": [
            "Federico\n",
            "Maria\n",
            "Juan\n",
            "Ricardo\n"
          ]
        },
        {
          "output_type": "execute_result",
          "data": {
            "text/plain": [
              "{'Federico': 8, 'Maria': 5, 'Juan': 4, 'Ricardo': 7}"
            ]
          },
          "metadata": {},
          "execution_count": 33
        }
      ]
    },
    {
      "cell_type": "markdown",
      "source": [
        "for nombre in lista_nombres.capitalize():\n",
        "  print(nombre)\n",
        "El error ocurre porque lista_nombres es una lista, y capitalize() es un método de cadenas de texto (strings), no de listas.\n",
        "\n",
        "Es decir, el método capitalize() solo se puede aplicar a cadenas de texto individuales (strings), pero no a listas completas.\n",
        "\n",
        "Por lo tanto, cuando intentas hacer lista_nombres.capitalize(), Python te dice que no puede encontrar el método capitalize porque no existe para listas.\n",
        "\n",
        "-------------------------------------------------\n"
      ],
      "metadata": {
        "id": "dGrTvtoTVGqC"
      }
    },
    {
      "cell_type": "markdown",
      "source": [
        "Por qué funciona en el segundo ejemplo?\n",
        "\n",
        "for nombre in lista_nombres:\n",
        "  print(nombre.capitalize())\n",
        "\n",
        "\n",
        "En este caso, el iterable sobre el que haces el bucle for es lista_nombres, que es una lista de cadenas de texto (strings).\n",
        "\n",
        "Entonces, en cada iteración, la variable nombre toma el valor de un string individual de la lista. Y como nombre es un string (por ejemplo 'maria', 'JUAN', etc.), puedes aplicar el método capitalize() a esa cadena de texto específica, lo cual es válido.\n",
        "\n",
        "Vídeo del lunes 3 de junio, 2024 desde las 17:41 a las 21:27\n",
        "\n",
        "1:37:59"
      ],
      "metadata": {
        "id": "46WmGZiiVK24"
      }
    },
    {
      "cell_type": "markdown",
      "source": [
        "### Extra 2"
      ],
      "metadata": {
        "id": "DSNYeYufXwKI"
      }
    },
    {
      "cell_type": "markdown",
      "source": [
        "Tendre una variable, objetivo, por ejemplo igual a 4\n",
        "objetivo = 4\n",
        "\n",
        "Y quiero ver que nombre/s tienen esa cantidad de caracteres.\n",
        "\n",
        "Para reflexionar. ¿Cómo guardo el/los nombres resultantes?\n",
        "¿Cómo los obtengo(tip iterar con .items() )?\n",
        "\n",
        "\n",
        "longitudes = {'Federico': 8, 'Maria': 5, 'Juan': 4, 'Ricardo': 7, 'John': 4}"
      ],
      "metadata": {
        "id": "V0JQbKRyXzSw"
      }
    },
    {
      "cell_type": "code",
      "source": [
        "length = {'Federico': 8, 'Maria': 5, 'Juan': 4, 'Ricardo': 7, 'John': 4}\n",
        "length"
      ],
      "metadata": {
        "colab": {
          "base_uri": "https://localhost:8080/"
        },
        "id": "60BgZoiWRkwe",
        "outputId": "e3ec8359-1ee1-4288-8d17-d50a62d4a4a8"
      },
      "execution_count": 35,
      "outputs": [
        {
          "output_type": "execute_result",
          "data": {
            "text/plain": [
              "{'Federico': 8, 'Maria': 5, 'Juan': 4, 'Ricardo': 7, 'John': 4}"
            ]
          },
          "metadata": {},
          "execution_count": 35
        }
      ]
    },
    {
      "cell_type": "code",
      "source": [
        "target = 4\n",
        "\n",
        "names_found = []\n",
        "\n",
        "for name,n_char in length.items():\n",
        "  if n_char == target:\n",
        "    names_found.append(name)\n",
        "names_found\n",
        "\n"
      ],
      "metadata": {
        "colab": {
          "base_uri": "https://localhost:8080/"
        },
        "id": "Qaitt77rYT1o",
        "outputId": "31c19de6-6967-4e9f-8aed-04e03ad9f579"
      },
      "execution_count": 36,
      "outputs": [
        {
          "output_type": "execute_result",
          "data": {
            "text/plain": [
              "['Juan', 'John']"
            ]
          },
          "metadata": {},
          "execution_count": 36
        }
      ]
    },
    {
      "cell_type": "markdown",
      "source": [
        "Way of thinking:\n",
        "1. Inicializar el diccionario length con los nombres y sus longitudes.\n",
        "\n",
        "2. Tener un target que define cuántos caracteres deseas que tenga el nombre.\n",
        "\n",
        "3. Usar un bucle for para recorrer cada clave (nombre) y su valor (longitud).\n",
        "\n",
        "Si la longitud coincide con el target, agregas ese nombre a la lista names_found.\n",
        "\n",
        "Vídeo del lunes 3 de junio, 2024 desde las 17:41 a las 21:27 - 1:42:00"
      ],
      "metadata": {
        "id": "S3SmUlYYZQp1"
      }
    },
    {
      "cell_type": "code",
      "source": [
        "# Quede en los diccionarios anidados 2:21:48\n"
      ],
      "metadata": {
        "id": "pEmD7wcxZLPk"
      },
      "execution_count": null,
      "outputs": []
    },
    {
      "cell_type": "markdown",
      "source": [
        "## Diccionarios anidados\n",
        "\n",
        "Cuando tenemos un diccionario anidado, para poder acceder a los elementos de los diccionarios más internos debemos ir entrando en cada llave hasta llegar al elemento que queramos\n",
        "\n"
      ],
      "metadata": {
        "id": "CSPamXBMUYJb"
      }
    },
    {
      "cell_type": "code",
      "source": [
        "dict_2 = {1 : {\"nombre\" : \"pablo\", \"apellido\" : \"rodriguez\"},\n",
        "          2 : {\"nombre\" : \"juan\", \"apellido\" : \"perez\"}}\n",
        "\n",
        "dict_2"
      ],
      "metadata": {
        "colab": {
          "base_uri": "https://localhost:8080/"
        },
        "id": "DM5nnV7SUL2i",
        "outputId": "1f20c838-f630-4d9f-c852-8eab9d81d156"
      },
      "execution_count": 1,
      "outputs": [
        {
          "output_type": "execute_result",
          "data": {
            "text/plain": [
              "{1: {'nombre': 'pablo', 'apellido': 'rodriguez'},\n",
              " 2: {'nombre': 'juan', 'apellido': 'perez'}}"
            ]
          },
          "metadata": {},
          "execution_count": 1
        }
      ]
    },
    {
      "cell_type": "code",
      "source": [
        "# Ejemplo\n",
        "\n",
        "dict_2[1]\n",
        "\n"
      ],
      "metadata": {
        "colab": {
          "base_uri": "https://localhost:8080/"
        },
        "id": "nZhgSCFPUhF0",
        "outputId": "6a8a62ff-652e-46a9-dcdd-b9014a66d2a0"
      },
      "execution_count": 2,
      "outputs": [
        {
          "output_type": "execute_result",
          "data": {
            "text/plain": [
              "{'nombre': 'pablo', 'apellido': 'rodriguez'}"
            ]
          },
          "metadata": {},
          "execution_count": 2
        }
      ]
    },
    {
      "cell_type": "code",
      "source": [
        "dict_2[1][\"nombre\"]"
      ],
      "metadata": {
        "colab": {
          "base_uri": "https://localhost:8080/",
          "height": 35
        },
        "id": "AQSmhvboUl_x",
        "outputId": "b3497adf-4cfa-4239-c271-96e53bac86f8"
      },
      "execution_count": 3,
      "outputs": [
        {
          "output_type": "execute_result",
          "data": {
            "text/plain": [
              "'pablo'"
            ],
            "application/vnd.google.colaboratory.intrinsic+json": {
              "type": "string"
            }
          },
          "metadata": {},
          "execution_count": 3
        }
      ]
    },
    {
      "cell_type": "code",
      "source": [
        "dict_2.get(1).get(\"nombre\")"
      ],
      "metadata": {
        "colab": {
          "base_uri": "https://localhost:8080/",
          "height": 35
        },
        "id": "sfunRatqUoCT",
        "outputId": "d101c330-b639-468c-ff63-945af1c7758d"
      },
      "execution_count": 4,
      "outputs": [
        {
          "output_type": "execute_result",
          "data": {
            "text/plain": [
              "'pablo'"
            ],
            "application/vnd.google.colaboratory.intrinsic+json": {
              "type": "string"
            }
          },
          "metadata": {},
          "execution_count": 4
        }
      ]
    },
    {
      "cell_type": "code",
      "source": [
        "dict_2[1][\"apellido\"]"
      ],
      "metadata": {
        "colab": {
          "base_uri": "https://localhost:8080/",
          "height": 35
        },
        "id": "GUTdnLWvUp_G",
        "outputId": "1f77baef-764f-4169-a66c-90645249e8a0"
      },
      "execution_count": 5,
      "outputs": [
        {
          "output_type": "execute_result",
          "data": {
            "text/plain": [
              "'rodriguez'"
            ],
            "application/vnd.google.colaboratory.intrinsic+json": {
              "type": "string"
            }
          },
          "metadata": {},
          "execution_count": 5
        }
      ]
    },
    {
      "cell_type": "code",
      "source": [
        "dict_2[2]"
      ],
      "metadata": {
        "colab": {
          "base_uri": "https://localhost:8080/"
        },
        "id": "So9eBQF4Uu1J",
        "outputId": "6c51adee-3312-4e2a-b74f-02a45fae7e80"
      },
      "execution_count": 6,
      "outputs": [
        {
          "output_type": "execute_result",
          "data": {
            "text/plain": [
              "{'nombre': 'juan', 'apellido': 'perez'}"
            ]
          },
          "metadata": {},
          "execution_count": 6
        }
      ]
    },
    {
      "cell_type": "code",
      "source": [
        " dict_2[2][\"nombre\"]"
      ],
      "metadata": {
        "colab": {
          "base_uri": "https://localhost:8080/",
          "height": 35
        },
        "id": "HpuK7HlrUwI_",
        "outputId": "2213fc12-0c9e-4e54-9e0b-31c0f892c145"
      },
      "execution_count": 7,
      "outputs": [
        {
          "output_type": "execute_result",
          "data": {
            "text/plain": [
              "'juan'"
            ],
            "application/vnd.google.colaboratory.intrinsic+json": {
              "type": "string"
            }
          },
          "metadata": {},
          "execution_count": 7
        }
      ]
    },
    {
      "cell_type": "markdown",
      "source": [
        "# Diccionarios anidados Ejercicio clase\n",
        "\n",
        "dict_2 = {\"123L\" : {\"nombre\" : \"pablo\", \"apellido\" : \"rodriguez\", \"tel\": 5},\n",
        "          \"222L\" : {\"nombre\" : \"juan\", \"apellido\" : \"perez\", \"tel\": 4},\n",
        "          \"2340L\" : {\"nombre\" : \"miguel\", \"apellido\" : \"sanchez\"}}\n",
        "\n",
        "dict_2\n",
        "1. voy a recorrer el diccionario.\n",
        "2.  si detecto que alguien no tieen número de teléfono, le agrego uno por defecto\n",
        "3. que será el 444."
      ],
      "metadata": {
        "id": "uUvGYEJKU3lt"
      }
    },
    {
      "cell_type": "code",
      "source": [
        "dict_2 = {\"123L\" : {\"nombre\" : \"pablo\", \"apellido\" : \"rodriguez\", \"tel\": 5}, \"222L\" : {\"nombre\" : \"juan\", \"apellido\" : \"perez\", \"tel\": 4}, \"2340L\" : {\"nombre\" : \"miguel\", \"apellido\" : \"sanchez\"}}\n",
        "\n",
        "dict_2"
      ],
      "metadata": {
        "colab": {
          "base_uri": "https://localhost:8080/"
        },
        "id": "0xBQ2kFwU_Ir",
        "outputId": "aa89e8ab-37d4-4873-a6ad-b6d49d1254ee"
      },
      "execution_count": 1,
      "outputs": [
        {
          "output_type": "execute_result",
          "data": {
            "text/plain": [
              "{'123L': {'nombre': 'pablo', 'apellido': 'rodriguez', 'tel': 5},\n",
              " '222L': {'nombre': 'juan', 'apellido': 'perez', 'tel': 4},\n",
              " '2340L': {'nombre': 'miguel', 'apellido': 'sanchez'}}"
            ]
          },
          "metadata": {},
          "execution_count": 1
        }
      ]
    },
    {
      "cell_type": "code",
      "source": [
        "for k, v in dict_2.items():\n",
        "  if 'tel' not in v:\n",
        "    v['tel'] = 444\n",
        "\n",
        "print(dict_2)\n",
        "\n",
        "# Aprender a poner las variables con nombres que tengan mas sentido\n",
        "\n",
        "# Ejemplo:\n",
        "#  for dni, info in dict_2.items():\n",
        "   # if \"tel\" not in info:\n",
        "       # dict_2[dni][\"tel\"] = 444\n"
      ],
      "metadata": {
        "colab": {
          "base_uri": "https://localhost:8080/"
        },
        "id": "j48KCF9LYdVX",
        "outputId": "2777bb18-26fb-4969-f30f-f22661d7a21a"
      },
      "execution_count": 4,
      "outputs": [
        {
          "output_type": "stream",
          "name": "stdout",
          "text": [
            "{'123L': {'nombre': 'pablo', 'apellido': 'rodriguez', 'tel': 5}, '222L': {'nombre': 'juan', 'apellido': 'perez', 'tel': 4}, '2340L': {'nombre': 'miguel', 'apellido': 'sanchez', 'tel': 444}}\n"
          ]
        }
      ]
    },
    {
      "cell_type": "markdown",
      "source": [
        "Resumen de lo aprendido:\n",
        "\n",
        "Recorrer un diccionario anidado: Usamos dict_2.items() para obtener tanto las claves como los valores de un diccionario. Luego, accedemos al diccionario interno para hacer las comprobaciones necesarias.\n",
        "\n",
        "Verificación de claves en diccionarios: Se puede verificar si una clave está presente en un diccionario con 'clave' not in diccionario.\n",
        "\n",
        "Modificar un diccionario anidado: Accedemos a las claves y valores dentro de los diccionarios internos utilizando value['clave']."
      ],
      "metadata": {
        "id": "mVgpD-jYcQ5U"
      }
    },
    {
      "cell_type": "code",
      "source": [
        "# Codigo aun mas seguro, en los casos mas complejos que tengamos que acceder con mas detalle\n",
        "\n",
        "for dni, info in dict_2.items():\n",
        "  if 'tel' not in info:\n",
        "    dict_2[dni][\"tel\"] = 444\n",
        "\n",
        "# Esto funcionaria mejor, ya que ni siempre va a funcionar con el ejemplo de arriba( principalmente con mucho mas datos)"
      ],
      "metadata": {
        "id": "-AgnQsFJfwiM"
      },
      "execution_count": null,
      "outputs": []
    },
    {
      "cell_type": "markdown",
      "source": [
        " Existe una función que nos ayuda a contar el número de elementos de un objeto, la función retorna un objeto parecido a los diccionarios.\n",
        "\n",
        " from collections import Counter"
      ],
      "metadata": {
        "id": "YcNz3Ay8evkR"
      }
    },
    {
      "cell_type": "code",
      "source": [
        "from collections import Counter\n",
        "\n",
        "string = \"aaaabbbbcccccddddddeeeeeeeffffffffffgggggggggggggggghhhhhhhhhhhhhhhhhhhhhh\"\n",
        "print(string)\n",
        "\n",
        "Counter(string)\n",
        "\n"
      ],
      "metadata": {
        "colab": {
          "base_uri": "https://localhost:8080/"
        },
        "id": "eFbenlm6Yda2",
        "outputId": "6c744b0f-b0b5-407d-f44b-02b1903a07bf"
      },
      "execution_count": 6,
      "outputs": [
        {
          "output_type": "stream",
          "name": "stdout",
          "text": [
            "aaaabbbbcccccddddddeeeeeeeffffffffffgggggggggggggggghhhhhhhhhhhhhhhhhhhhhh\n"
          ]
        },
        {
          "output_type": "execute_result",
          "data": {
            "text/plain": [
              "Counter({'a': 4, 'b': 4, 'c': 5, 'd': 6, 'e': 7, 'f': 10, 'g': 16, 'h': 22})"
            ]
          },
          "metadata": {},
          "execution_count": 6
        }
      ]
    },
    {
      "cell_type": "markdown",
      "source": [
        "# Funciones\n",
        "\n",
        "Una función es un bloque de código con un nombre asociado, que recibe cero o más argumentos como entrada, sigue una secuencia de sentencias, la cuales ejecuta una operación deseada y devuelve un valor y/o realiza una tarea.En python las funciones se definen con la palabra reservada def y si es necesario, se utiliza la palabra reservada return.\n",
        "\n",
        "\n",
        "Vídeo del lunes 3 de junio, 2024 desde las 17:41 a las 21:27 - 3:05\n",
        "\n"
      ],
      "metadata": {
        "id": "BNpzOy1_gdaV"
      }
    },
    {
      "cell_type": "code",
      "source": [
        "# Duda 3:19"
      ],
      "metadata": {
        "id": "L6xRW7MCinqT"
      },
      "execution_count": null,
      "outputs": []
    },
    {
      "cell_type": "code",
      "source": [
        "# Función que retorna el cuadrado de un número si es par.\n",
        "\n",
        "def func_cuadrado_par(x = 100):\n",
        "    if x % 2 == 0:\n",
        "        return x**2\n",
        "    else:\n",
        "        return x"
      ],
      "metadata": {
        "id": "ZgoCJXkfgzlF"
      },
      "execution_count": 7,
      "outputs": []
    },
    {
      "cell_type": "code",
      "source": [
        "# Función que retorna el cuadrado de un número si es par.\n",
        "\n",
        "def func_cuadrado_par(x = 100):\n",
        "    if x % 2 == 0:\n",
        "        return x**2\n",
        "    return x"
      ],
      "metadata": {
        "id": "b3DLoeuzssP-"
      },
      "execution_count": 8,
      "outputs": []
    },
    {
      "cell_type": "code",
      "source": [
        " func_cuadrado_par(10)"
      ],
      "metadata": {
        "colab": {
          "base_uri": "https://localhost:8080/"
        },
        "id": "ZKobqkwhstky",
        "outputId": "cd34cb07-8064-43fe-e59e-9d14a3a7999e"
      },
      "execution_count": 9,
      "outputs": [
        {
          "output_type": "execute_result",
          "data": {
            "text/plain": [
              "100"
            ]
          },
          "metadata": {},
          "execution_count": 9
        }
      ]
    },
    {
      "cell_type": "code",
      "source": [
        " func_cuadrado_par(7)"
      ],
      "metadata": {
        "colab": {
          "base_uri": "https://localhost:8080/"
        },
        "id": "9zVLk6t6stns",
        "outputId": "7d8c11f3-94b4-44c9-8df3-6dc847de0bb3"
      },
      "execution_count": 10,
      "outputs": [
        {
          "output_type": "execute_result",
          "data": {
            "text/plain": [
              "7"
            ]
          },
          "metadata": {},
          "execution_count": 10
        }
      ]
    },
    {
      "cell_type": "code",
      "source": [
        " func_cuadrado_par()"
      ],
      "metadata": {
        "colab": {
          "base_uri": "https://localhost:8080/"
        },
        "id": "UYW2DlYvstqd",
        "outputId": "a780e0b2-0676-48ed-d1a1-fe479b2f9d7c"
      },
      "execution_count": 11,
      "outputs": [
        {
          "output_type": "execute_result",
          "data": {
            "text/plain": [
              "10000"
            ]
          },
          "metadata": {},
          "execution_count": 11
        }
      ]
    },
    {
      "cell_type": "code",
      "source": [
        "# Mucha gente comete este error:\n",
        "\n",
        "def ejemplo(lista):\n",
        "  for numero in lista:\n",
        "    numero = numero *2\n",
        "    return numero"
      ],
      "metadata": {
        "id": "t33TjUfystte"
      },
      "execution_count": 12,
      "outputs": []
    },
    {
      "cell_type": "code",
      "source": [
        "ejemplo([10, 5 , 10])"
      ],
      "metadata": {
        "colab": {
          "base_uri": "https://localhost:8080/"
        },
        "id": "n1HQrNuZsuMV",
        "outputId": "400ab44f-5b41-4cca-e7eb-6e92a7fea522"
      },
      "execution_count": 13,
      "outputs": [
        {
          "output_type": "execute_result",
          "data": {
            "text/plain": [
              "20"
            ]
          },
          "metadata": {},
          "execution_count": 13
        }
      ]
    },
    {
      "cell_type": "markdown",
      "source": [
        "Explicación paso a paso:\n",
        "La función ejemplo recibe una lista de números: [10, 5, 10].\n",
        "\n",
        "El primer número en la lista es 10:\n",
        "\n",
        "El número 10 se multiplica por 2, lo que da 20.\n",
        "Se ejecuta return numero:\n",
        "\n",
        "El return dentro del bucle hace que la función termine y devuelva el valor de numero (20) inmediatamente.\n",
        "Como resultado, la función devuelve solo 20 y no sigue iterando sobre el resto de los elementos de la lista."
      ],
      "metadata": {
        "id": "Wr5uVrYxtyE9"
      }
    },
    {
      "cell_type": "code",
      "source": [
        "\"\"\"\n",
        "Quiero una función que tome una lista.\n",
        "Y devuelva una nueva lista que contenga todos los elementos repetidos.\n",
        "\n",
        "Entrada = [1,1,2,3,4,5,4,1,1,1]\n",
        "\n",
        "Salida = [1,4]\n",
        "\n",
        "Ayuda: Ayudate de una nueva lista\n",
        "\"\"\""
      ],
      "metadata": {
        "id": "FaEOuqRptHip"
      },
      "execution_count": null,
      "outputs": []
    },
    {
      "cell_type": "code",
      "source": [
        "def eliminate_duplicates(input_list):\n",
        "  duplicates = []\n",
        "\n",
        "  for element in input_list:\n",
        "    if input_list.count(element) > 1 and element not in duplicates:\n",
        "      duplicates.append(element)\n",
        "  return duplicates\n",
        "\n"
      ],
      "metadata": {
        "id": "mUnHpqj5t8wX"
      },
      "execution_count": 14,
      "outputs": []
    },
    {
      "cell_type": "code",
      "source": [
        "new_list = [1,1,2,3,4,5,4,1,1,1]\n",
        "duplicates = eliminate_duplicates(new_list)\n",
        "\n",
        "duplicates\n",
        "\n"
      ],
      "metadata": {
        "colab": {
          "base_uri": "https://localhost:8080/"
        },
        "id": "-PXgGiJpt9WQ",
        "outputId": "04e690e8-3fad-4e98-d284-54cd13df9425"
      },
      "execution_count": 15,
      "outputs": [
        {
          "output_type": "execute_result",
          "data": {
            "text/plain": [
              "[1, 4]"
            ]
          },
          "metadata": {},
          "execution_count": 15
        }
      ]
    },
    {
      "cell_type": "markdown",
      "source": [
        "## Resumen:\n",
        "\n",
        ".count() es un método disponible para listas en Python y permite contar cuántas veces aparece un valor específico dentro de la lista."
      ],
      "metadata": {
        "id": "mSMABC0C0HmJ"
      }
    },
    {
      "cell_type": "markdown",
      "source": [
        "## Retornar más de un elemento\n",
        "\n",
        "Hasta ahora hemos hecho funciones que solo retornan un elemento, número, lista... Pero podemos hacer que el return nos retorne varias elementos, de esta forma podemos asignar varias variables al mismo tiempo."
      ],
      "metadata": {
        "id": "g3VNbSN_zU2X"
      }
    },
    {
      "cell_type": "code",
      "source": [
        "# Funcion que retorna el minimo y el maximo de una lista\n",
        "\n",
        "def min_max_lista(lista):\n",
        "\n",
        "    minimo = min(lista)\n",
        "    maximo = max(lista)\n",
        "\n",
        "    return minimo, maximo\n",
        "\n",
        ""
      ],
      "metadata": {
        "id": "G90c90C2zYxK"
      },
      "execution_count": 17,
      "outputs": []
    },
    {
      "cell_type": "code",
      "source": [
        "lista = [1,1,2,3,4,5,4,1,1,1]\n",
        "\n",
        "min_lista, max_lista = min_max_lista(lista)\n",
        "\n",
        "min_lista, max_lista"
      ],
      "metadata": {
        "colab": {
          "base_uri": "https://localhost:8080/"
        },
        "id": "DOZYVTpRzbVu",
        "outputId": "13cc18b6-62e0-4d15-b733-ab667911bc90"
      },
      "execution_count": 18,
      "outputs": [
        {
          "output_type": "execute_result",
          "data": {
            "text/plain": [
              "(1, 5)"
            ]
          },
          "metadata": {},
          "execution_count": 18
        }
      ]
    },
    {
      "cell_type": "markdown",
      "source": [
        "## Variables locales y globales\n",
        "\n",
        "En Python las variables locales son aquellas definidas dentro de una función. Solamente son accesibles desde la propia función y dejan de existir cuando esta termina su ejecución.\n",
        "\n",
        "Los parámetros de una función también son considerados como variables locales.En Python las variables globales son aquellas definidas en el cuerpo principal del programa fuera de cualquier función.\n",
        "\n",
        "Son accesibles desde cualquier punto del programa, incluso desde dentro de funciones. También se puede acceder a las variables globales de otros programas o módulos importados.\n",
        "\n",
        "Ver notebook 08.funciones"
      ],
      "metadata": {
        "id": "iIJRoPmAzo6J"
      }
    },
    {
      "cell_type": "markdown",
      "source": [
        "###  Estudiar variables locales y globales, con funciones\n",
        "\n",
        "\n",
        "\n"
      ],
      "metadata": {
        "id": "KGan0nayyLim"
      }
    },
    {
      "cell_type": "markdown",
      "source": [
        "Vídeo del martes 4 de junio, 2024 desde las 17:46 a las 21:22 - 23:00\n",
        "\n",
        "\n",
        "## Lambda (función anónima)\n",
        "Python cuenta con la función lambda, también llamada función anónima, su utilidad es poder crear funciones sin tener que darle un nombre. Debido a la sintaxis de la función lambda está es un poco limitada.Se usa principalmente para funciones cortas, puede tomar muchos parámetros y puede retornar cualquier tipo de dato (numero, tupla, lista, diccionario...)."
      ],
      "metadata": {
        "id": "CCCSkOZO0XWN"
      }
    },
    {
      "cell_type": "markdown",
      "source": [
        "### Sintaxis básica de una función lambda:\n",
        "\n",
        "lambda argumentos: expresión\n",
        "\n",
        "\n",
        "Vídeo del martes 4 de junio, 2024 desde las 17:46 a las 21:22 - 25:00"
      ],
      "metadata": {
        "id": "kD82CRqg02Nq"
      }
    },
    {
      "cell_type": "code",
      "source": [
        "string = \"hola\"\n",
        "\n",
        "def contador_a(string):\n",
        "    return string.lower().count(\"a\")\n",
        "\n",
        "contador_a('hola')"
      ],
      "metadata": {
        "colab": {
          "base_uri": "https://localhost:8080/"
        },
        "id": "sx-S-WRet9cS",
        "outputId": "46e208b1-d041-4ccd-f8a7-0e431937e4c7"
      },
      "execution_count": 19,
      "outputs": [
        {
          "output_type": "execute_result",
          "data": {
            "text/plain": [
              "1"
            ]
          },
          "metadata": {},
          "execution_count": 19
        }
      ]
    },
    {
      "cell_type": "code",
      "source": [
        "contador_a = lambda string : string.lower().count('a')\n",
        "\n",
        "contador_a('Holaaaa')"
      ],
      "metadata": {
        "colab": {
          "base_uri": "https://localhost:8080/"
        },
        "id": "V1mtfHaXNv3P",
        "outputId": "802cb4d3-2816-4108-9bab-eee4056c054e"
      },
      "execution_count": 20,
      "outputs": [
        {
          "output_type": "execute_result",
          "data": {
            "text/plain": [
              "4"
            ]
          },
          "metadata": {},
          "execution_count": 20
        }
      ]
    },
    {
      "cell_type": "code",
      "source": [
        "# Logica de pensamiento\n",
        "def sumar_numeros(a, b):\n",
        "    return a + b\n",
        "\n",
        "\n",
        "# Lambda\n",
        "sumar_numeros = lambda a, b: a + b"
      ],
      "metadata": {
        "id": "ajaHd563O_wj"
      },
      "execution_count": null,
      "outputs": []
    },
    {
      "cell_type": "markdown",
      "source": [
        "nombre de la funcion = variable\n",
        "\n",
        "argumentos = lo que vamos a llamar en la funcion(a,b)\n",
        "\n",
        "expresión a + b = return"
      ],
      "metadata": {
        "id": "iCVXzK-jPRB1"
      }
    },
    {
      "cell_type": "markdown",
      "source": [
        "Ordenación personalizada (sorted(), sort()):\n",
        "\n",
        "Puedes usar una función lambda para especificar la clave de ordenación (key) cuando usas las funciones sorted() o sort()."
      ],
      "metadata": {
        "id": "j-2aJnWQbrXZ"
      }
    },
    {
      "cell_type": "code",
      "source": [
        "palabras = [\"manzana\", \"banana\", \"kiwi\", \"cereza\"]\n",
        "palabras_ordenadas = sorted(palabras, key=lambda x: len(x))\n",
        "print(palabras_ordenadas)  # Salida: ['kiwi', 'cereza', 'banana', 'manzana']"
      ],
      "metadata": {
        "id": "3t4ms0udPkZJ"
      },
      "execution_count": null,
      "outputs": []
    },
    {
      "cell_type": "markdown",
      "source": [
        "## Object-Oriented Programming (OOP)\n",
        "\n",
        "Vídeo del martes 4 de junio, 2024 desde las 17:46 a las 21:22 - 01:13:00\n",
        "\n",
        "# Mirar el notebook 10 - Modulo 1 para tener ejemplos visuales\n",
        "\n",
        "\n",
        "La idea de la programación orientada a objetos puede parecer abstracta y compleja, pero ya hemos estado utilizando objetos sin darnos cuenta. Casi todo en Python es un objeto, todas las cadenas, listas, y diccionarios que hemos visto hasta ahora y que hemos usado han sido objetos.\n",
        "\n",
        "\n",
        "### Objeto\n",
        "El objeto es el centro de la programación orientada a objetos. Un objeto es algo que se visualiza, se utiliza y que juega un papel o un rol en el dominio del problema del programa. La estructura interna y el comportamiento de un objeto, en consecuencia, no es prioritario durante el modelado del problema.\n",
        "\n",
        "\n",
        "### Clase\n",
        "En el mundo real existen varios objetos de un mismo tipo o clase, por lo que una clase equivale a la generalización de un tipo específico de objetos. Una clase es una plantilla que define las variables y los métodos que son comunes para todos los objetos de un cierto tipo.\n",
        "\n",
        "### Instancia\n",
        "Una vez definida la clase se pueden crear objetos a partir de ésta, a este proceso se le conoce como crear instancias de una clase o instanciar una clase. En este momento el sistema reserva suficiente memoria para el objeto con todos sus atributos.Una instancia es un elemento de una clase (un objeto). Cada uno de los objetos o instancias tiene su propia copia de las variables definidas en la clase de la cual son instanciados y comparten la misma implementación de los métodos. Sin embargo, cada objeto asigna valores a sus atributos y es totalmente independiente de los demás.\n",
        "\n",
        "### Método\n",
        "Los métodos especifican el comportamiento de la clase y sus instancias. En el momento de la declaración hay que indicar cuál es el tipo del parámetro que devolverá el método.\n",
        "\n",
        "### Atributos\n",
        "Tipos de datos asociados a un objeto (o a una clase de objetos), que hace los datos visibles desde fuera del objeto y esto se define como sus características predeterminadas, cuyo valor puede ser alterado por la ejecución de algún método.\n",
        "\n",
        "\n"
      ],
      "metadata": {
        "id": "VjtOBb2Tb1Jd"
      }
    },
    {
      "cell_type": "markdown",
      "source": [
        "## Ejemplo practico\n",
        "\n",
        "1. Clase (Plantilla)\n",
        "La clase es como una plantilla o plano para crear objetos. En este caso, la clase sería \"Perro\". Esta clase define qué atributos (como nombre, edad y raza) tendrá cada perro, así como qué métodos (acciones que el perro puede hacer) podrá ejecutar, como ladrar o comer.\n",
        "\n"
      ],
      "metadata": {
        "id": "fChm5ibviS4w"
      }
    },
    {
      "cell_type": "code",
      "source": [
        "class Perro:\n",
        "    # Atributos (características)\n",
        "    def __init__(self, nombre, edad, raza):\n",
        "        self.nombre = nombre  # Atributo: Nombre del perro\n",
        "        self.edad = edad      # Atributo: Edad del perro\n",
        "        self.raza = raza      # Atributo: Raza del perro\n",
        "\n",
        "    # Métodos (acciones que el perro puede hacer)\n",
        "    def ladrar(self):\n",
        "        print(f\"{self.nombre} está ladrando!\")\n",
        "\n",
        "    def comer(self, comida):\n",
        "        print(f\"{self.nombre} está comiendo {comida}.\")"
      ],
      "metadata": {
        "id": "q1_M_bcIiboC"
      },
      "execution_count": null,
      "outputs": []
    },
    {
      "cell_type": "markdown",
      "source": [
        "2. Objeto (Instancia de la clase)\n",
        "Una vez que tenemos la clase Perro, podemos crear objetos a partir de esa clase, que serían instancias de la clase.\n",
        "\n",
        "En este caso, vamos a crear dos perros específicos."
      ],
      "metadata": {
        "id": "iHQ30dHSid4w"
      }
    },
    {
      "cell_type": "code",
      "source": [
        "# Creamos dos instancias de la clase \"Perro\"\n",
        "perro1 = Perro(\"Rex\", 3, \"Labrador\")\n",
        "perro2 = Perro(\"Bella\", 5, \"Beagle\")"
      ],
      "metadata": {
        "id": "cIrH66QXcZ4h"
      },
      "execution_count": null,
      "outputs": []
    },
    {
      "cell_type": "markdown",
      "source": [
        "perro1 es una instancia de la clase Perro, donde el nombre es \"Rex\", la edad es 3 y la raza es \"Labrador\".\n",
        "\n",
        "perro2 es otra instancia de la clase Perro, con nombre \"Bella\", edad 5 y raza \"Beagle\"."
      ],
      "metadata": {
        "id": "mHWMwL9UinEl"
      }
    },
    {
      "cell_type": "markdown",
      "source": [
        "3. Métodos\n",
        "Cada objeto tiene métodos definidos por la clase. Estos métodos nos permiten interactuar con el objeto.\n",
        "\n",
        "Por ejemplo, el método ladrar() permite que el perro \"ladre\" y el método comer() permite que el perro coma algo."
      ],
      "metadata": {
        "id": "RgSsFpsni0LF"
      }
    },
    {
      "cell_type": "code",
      "source": [
        "# Usamos los métodos\n",
        "perro1.ladrar()  # Imprime: Rex está ladrando!\n",
        "perro2.comer(\"carne\")  # Imprime: Bella está comiendo carne."
      ],
      "metadata": {
        "id": "7YUw1dfQcZ75"
      },
      "execution_count": null,
      "outputs": []
    },
    {
      "cell_type": "markdown",
      "source": [
        "4. Atributos\n",
        "Los atributos de una clase son variables que almacenan la información sobre cada objeto.\n",
        "\n",
        "En este caso, cada perro tiene atributos como nombre, edad y raza. Esas características son específicas de cada instancia."
      ],
      "metadata": {
        "id": "Fbrqd8UYi_B9"
      }
    },
    {
      "cell_type": "code",
      "source": [
        "# Accedemos a los atributos\n",
        "print(perro1.nombre)  # Imprime: Rex\n",
        "print(perro2.edad)    # Imprime: 5"
      ],
      "metadata": {
        "id": "8QAVoxQTcaHi"
      },
      "execution_count": null,
      "outputs": []
    },
    {
      "cell_type": "markdown",
      "source": [
        "# Visualización del proceso:\n",
        "Clase: Plantilla o modelo de un perro, con atributos como nombre, edad, raza, y métodos como ladrar y comer.\n",
        "\n",
        "\n",
        "Instancia: Un perro real, como \"Rex\" o \"Bella\", que tiene sus propios valores para estos atributos y puede ejecutar los métodos definidos en la clase.\n",
        "\n",
        "\n",
        "Métodos: Acciones o comportamientos que el perro puede realizar, como ladrar o comer.\n",
        "\n",
        "\n",
        "Atributos: Son las características o propiedades del perro, como su nombre, edad y raza."
      ],
      "metadata": {
        "id": "y5jT-g3NjC_c"
      }
    },
    {
      "cell_type": "code",
      "source": [
        "# Definir la clase Perro\n",
        "class Perro:\n",
        "    def __init__(self, nombre, edad, raza):\n",
        "        self.nombre = nombre  # Atributo\n",
        "        self.edad = edad\n",
        "        self.raza = raza\n",
        "\n",
        "    # Método ladrar\n",
        "    def ladrar(self):\n",
        "        print(f\"{self.nombre} está ladrando!\")\n",
        "\n",
        "    # Método comer\n",
        "    def comer(self, comida):\n",
        "        print(f\"{self.nombre} está comiendo {comida}.\")\n",
        "\n",
        "# Crear instancias (objetos) de la clase Perro\n",
        "perro1 = Perro(\"Rex\", 3, \"Labrador\")\n",
        "perro2 = Perro(\"Bella\", 5, \"Beagle\")\n",
        "\n",
        "# Acceder a atributos\n",
        "print(perro1.nombre)  # Imprime: Rex\n",
        "print(perro2.edad)    # Imprime: 5\n",
        "\n",
        "# Usar los métodos\n",
        "perro1.ladrar()  # Imprime: Rex está ladrando!\n",
        "perro2.comer(\"carne\")  # Imprime: Bella está comiendo carne."
      ],
      "metadata": {
        "id": "CrF8-TTvjJq4"
      },
      "execution_count": null,
      "outputs": []
    },
    {
      "cell_type": "markdown",
      "source": [
        "### Resumen:\n",
        "Clase: Define el plano o la plantilla para los objetos.\n",
        "\n",
        "Instancia: Un objeto concreto creado a partir de la clase.\n",
        "\n",
        "Atributos: Las características del objeto (nombre, edad, etc.).\n",
        "\n",
        "Métodos: Las acciones que el objeto puede realizar (ladrar, comer, etc.).\n",
        "\n",
        "Este enfoque de programación te permite organizar y estructurar mejor tu código, encapsulando los datos y comportamientos relacionados en \"objetos\" que pueden interactuar entre sí."
      ],
      "metadata": {
        "id": "VGA6oXi8jlpM"
      }
    },
    {
      "cell_type": "code",
      "source": [],
      "metadata": {
        "id": "yT66az0-j88-"
      },
      "execution_count": null,
      "outputs": []
    }
  ]
}